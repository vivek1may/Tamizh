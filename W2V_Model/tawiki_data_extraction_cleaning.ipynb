{
 "cells": [
  {
   "cell_type": "markdown",
   "metadata": {
    "colab_type": "text",
    "id": "hMKbV87O3Cdv"
   },
   "source": [
    "This Code is extract useful information form Tamil data-set from (Wikimedia). \n",
    "\n",
    "Informations Planned to extract:\n",
    "  \n",
    "  1. Nouns\n",
    "  \n",
    "  2. multiple word - single meaning\n",
    "  3. Categories\n",
    "  \n",
    "  \n",
    " Data leaning part\n",
    "  1. Extract only tamil sentence"
   ]
  },
  {
   "cell_type": "code",
   "execution_count": 1,
   "metadata": {
    "colab": {
     "base_uri": "https://localhost:8080/",
     "height": 34
    },
    "colab_type": "code",
    "id": "SzgSImPS3j80",
    "outputId": "d20ba1a7-43f3-41b0-a015-50ca441ac450"
   },
   "outputs": [
    {
     "name": "stdout",
     "output_type": "stream",
     "text": [
      "Requirement already satisfied: regex in d:\\progams\\anaconda\\lib\\site-packages (2018.7.11)\n"
     ]
    },
    {
     "name": "stderr",
     "output_type": "stream",
     "text": [
      "You are using pip version 18.1, however version 19.2.1 is available.\n",
      "You should consider upgrading via the 'python -m pip install --upgrade pip' command.\n"
     ]
    }
   ],
   "source": [
    "#Install libraries\n",
    "\n",
    "!pip install regex\n"
   ]
  },
  {
   "cell_type": "markdown",
   "metadata": {
    "colab_type": "text",
    "id": "YvWZOhqm3ewk"
   },
   "source": [
    "Import relevant libraries"
   ]
  },
  {
   "cell_type": "code",
   "execution_count": 2,
   "metadata": {
    "colab": {},
    "colab_type": "code",
    "id": "oqpE3PZ73B0r"
   },
   "outputs": [],
   "source": [
    "import pandas as pd\n",
    "import re\n",
    "import regex"
   ]
  },
  {
   "cell_type": "code",
   "execution_count": 0,
   "metadata": {
    "colab": {
     "base_uri": "https://localhost:8080/",
     "height": 51
    },
    "colab_type": "code",
    "id": "DJxkhV_I3K9O",
    "outputId": "fd813708-2636-4fac-cad5-542590fe6179"
   },
   "outputs": [
    {
     "name": "stdout",
     "output_type": "stream",
     "text": [
      "Drive already mounted at /gdrive; to attempt to forcibly remount, call drive.mount(\"/gdrive\", force_remount=True).\n",
      "/gdrive\n"
     ]
    }
   ],
   "source": [
    "#Authorize google drive to be used as a storage\n",
    "from google.colab import drive\n",
    "drive.mount('/gdrive')\n",
    "%cd /gdrive"
   ]
  },
  {
   "cell_type": "markdown",
   "metadata": {
    "colab_type": "text",
    "id": "foXeT72637M9"
   },
   "source": [
    "Set the Directory from google drive to use as a default directory: \n",
    "\n",
    "I have the parsed data from XML (wiki) in this folder"
   ]
  },
  {
   "cell_type": "code",
   "execution_count": 0,
   "metadata": {
    "colab": {
     "base_uri": "https://localhost:8080/",
     "height": 34
    },
    "colab_type": "code",
    "id": "PAlIjWXm4Pje",
    "outputId": "14dffbe2-d09f-44fa-e7db-9aae713a4c23"
   },
   "outputs": [
    {
     "name": "stdout",
     "output_type": "stream",
     "text": [
      "/gdrive/My Drive/Tamizh/data/wiki_data\n"
     ]
    }
   ],
   "source": [
    "%cd /gdrive/My\\ Drive/Tamizh/data/wiki_data"
   ]
  },
  {
   "cell_type": "markdown",
   "metadata": {
    "colab_type": "text",
    "id": "jKBzewgv4Koy"
   },
   "source": [
    "Load the data"
   ]
  },
  {
   "cell_type": "code",
   "execution_count": 3,
   "metadata": {
    "colab": {},
    "colab_type": "code",
    "id": "nSQ3fPyX3x-5"
   },
   "outputs": [],
   "source": [
    "data = pd.read_csv(\"../dataset/tawiki/article/tawiki_pages_articles.csv\")"
   ]
  },
  {
   "cell_type": "markdown",
   "metadata": {
    "colab_type": "text",
    "id": "mtP3WfH14-2x"
   },
   "source": [
    "Define variable to save all the extracted information\n",
    "\n",
    "1. Wikipedia article clean texts\n",
    "2. Nouns (here nouns are considered as value bounded in box)\n",
    "3. Curl Values\n",
    "4. Heading values for articles\n",
    "5. Tamil - English combined\n",
    "6. Categories"
   ]
  },
  {
   "cell_type": "code",
   "execution_count": 0,
   "metadata": {
    "colab": {},
    "colab_type": "code",
    "id": "LhTRTw7i4Ma9"
   },
   "outputs": [],
   "source": [
    "#This will be considered as global variables #hope we have enought RAM for this slliness\n",
    "\n",
    "boxed_values = []\n",
    "curlBoxed_values = []\n",
    "heading_values = []\n",
    "boxed_and_curls = []\n",
    "categories = []"
   ]
  },
  {
   "cell_type": "markdown",
   "metadata": {
    "colab_type": "text",
    "id": "3It3F8T96BPD"
   },
   "source": [
    "Define regular expressoin syntax\n",
    "\n",
    "And extract information functions\n",
    "\n"
   ]
  },
  {
   "cell_type": "code",
   "execution_count": 0,
   "metadata": {
    "colab": {},
    "colab_type": "code",
    "id": "yCSBgdjW6LCd"
   },
   "outputs": [],
   "source": [
    "re_boxed_values = \"\\[[^\\]^\\[]*\\]\"\n",
    "re_curlBoxed_values = \"\\{[^\\{]*\\}\"\n",
    "re_heading_values = \"\\=\\=([^\\=]*)\\=\\=\"\n",
    "re_boxed_and_curls = \"\\[[^\\]^\\[]*\\]\\] \\([^\\(^\\)]*\\)\"\n",
    "re_categories = \"\\[\\[பகுப்பு:([^\\]]*)\\]\"\n",
    "\n",
    "def parse_data(text,title):\n",
    "  boxed_values.append({'title':title,'box':list(set(re.findall(re_boxed_values,text,re.M)))})\n",
    "  curlBoxed_values.append({'title':title,'curl':list(set(re.findall(re_curlBoxed_values,text,re.M)))})\n",
    "  heading_values.append({'title':title,'heading':list(set(re.findall(re_heading_values,text,re.M)))})\n",
    "  boxed_and_curls.append({'title':title,'boxcurl':list(set(re.findall(re_boxed_and_curls,text,re.M)))})\n",
    "  categories.append({'title':title,'categories':list(set(re.findall(re_categories,text,re.M)))})"
   ]
  },
  {
   "cell_type": "markdown",
   "metadata": {
    "colab_type": "text",
    "id": "48Z0680C7h5s"
   },
   "source": [
    "Cleaning is required with multiple string needs to be eliminated with regex\n",
    "\n",
    "Here I used \"regex\" function to extract tamil chars from the string (Note : not re)"
   ]
  },
  {
   "cell_type": "code",
   "execution_count": 0,
   "metadata": {
    "colab": {},
    "colab_type": "code",
    "id": "p8TEQo4o5-5e"
   },
   "outputs": [],
   "source": [
    "#set of regex rules to extract patterns\n",
    "\n",
    "re_braces = \"\\([^\\)]*\\)\"\n",
    "re_curl_braces =\"\\{\\{[^\\}\\{]*\\}\\}\"\n",
    "re_single_curl = \"\\{[^\\}\\{]*\\}\"\n",
    "# re_curl_braces =\"\\{[^\\}]*\\}\"\n",
    "# re_double_curl_braces = \"\\{[^\\{]*\\{[^\\}]*\\}\\}[^\\}]*\\}\\}\"\n",
    "re_category = \"\\[\\[பகுப்பு:[^\\]]*\\]\"\n",
    "re_header = \"(\\=\\=[^\\=]*\\=\\=)\"\n",
    "re_img = \"\\[\\[படிமம்:.*\\]\\]\"\n",
    "re_ref1 = \"<ref.*?/>\"\n",
    "re_ref2 = \"<ref.*?</ref>\"\n",
    "\n",
    "def clean_data(text):\n",
    "  text = re.sub(re_braces,\"\",text)\n",
    "  text = re.sub(re_ref2,\"\",text)\n",
    "  text = re.sub(re_ref1,\"\",text)\n",
    "  text = re.sub(re_curl_braces,\"\",text)\n",
    "  text = re.sub(re_curl_braces,\"\",text)\n",
    "  text = re.sub(re_curl_braces,\"\",text)\n",
    "  text = re.sub(re_single_curl,\"\",text)\n",
    "  text = re.sub(re_category,\"\",text)\n",
    "  text = re.sub(re_header,\"\",text)\n",
    "  text =\"\".join(regex.findall(\"[\\p{Tamil} ]\",text))\n",
    "  text = re.sub(\"\\s\\s+\" , \" \", text)\n",
    "  return text"
   ]
  },
  {
   "cell_type": "markdown",
   "metadata": {
    "colab_type": "text",
    "id": "fQxZq_Hi8NC5"
   },
   "source": [
    "Even some entire sections in the article is not needed for the language modelling purpose. \n",
    "\n",
    "We can eliminate those from the existance :-p "
   ]
  },
  {
   "cell_type": "code",
   "execution_count": 0,
   "metadata": {
    "colab": {},
    "colab_type": "code",
    "id": "LEbjoNuu8E-5"
   },
   "outputs": [],
   "source": [
    "section_rm= ['மேற்கோள்கள்','இவற்றையும் பார்க்கவும்','வெளி இணைப்புகள்','நூற்பட்டியல்','துணை நூல்கள்']\n",
    "\n",
    "def remove_sections(text):\n",
    "  text = re.sub(re_img,\"\",text)\n",
    "  article = \"\"\n",
    "  for para in text.split(\"\\n\\n\"):\n",
    "    if not any([section in para for section in section_rm]):\n",
    "      article += para \n",
    "      \n",
    "  return article"
   ]
  },
  {
   "cell_type": "code",
   "execution_count": 0,
   "metadata": {
    "colab": {},
    "colab_type": "code",
    "id": "HGy8DgkZ8niO"
   },
   "outputs": [],
   "source": [
    "#remove_sections(data.text[8])"
   ]
  },
  {
   "cell_type": "markdown",
   "metadata": {
    "colab_type": "text",
    "id": "r3ZrfoqU8rW8"
   },
   "source": [
    "So Here we go !!!!!!!!!!!!\n",
    "\n",
    "We have all the funtions for \n",
    "\n",
    "1. Extract the relevant information from the article\n",
    "2. Clean the data\n",
    "3. Extracting the pure -(information) from the article \n"
   ]
  },
  {
   "cell_type": "code",
   "execution_count": 0,
   "metadata": {
    "colab": {},
    "colab_type": "code",
    "id": "p6ibuBPS7Qn5"
   },
   "outputs": [],
   "source": [
    "#combine all these into a single funciton\n",
    "\n",
    "def extract_tawiki(text,title):\n",
    "  if type(text)==str:\n",
    "    text = remove_sections(text)\n",
    "    parse_data(text,title)\n",
    "    clean_text = clean_data(text)\n",
    "    return clean_text\n",
    "  else:\n",
    "    return \"\"\n",
    "  "
   ]
  },
  {
   "cell_type": "markdown",
   "metadata": {
    "colab_type": "text",
    "id": "CM5S1nJmE5pM"
   },
   "source": [
    "Apply the same logic to all data in the dataframe \n",
    "\n"
   ]
  },
  {
   "cell_type": "code",
   "execution_count": 0,
   "metadata": {
    "colab": {},
    "colab_type": "code",
    "id": "PmnbLs8t_qk9"
   },
   "outputs": [],
   "source": [
    "#text data\n",
    "tawiki_data= []\n",
    "\n",
    "\n",
    "#Other useful information\n",
    "boxed_values = []\n",
    "curlBoxed_values = []\n",
    "heading_values = []\n",
    "boxed_and_curls = []\n",
    "categories = []\n",
    "\n",
    "\n",
    "for i in range(data.shape[0]):\n",
    "  tawiki_data.append(extract_tawiki(data.text.iloc[i],data.title.iloc[i]))"
   ]
  },
  {
   "cell_type": "code",
   "execution_count": 0,
   "metadata": {
    "colab": {},
    "colab_type": "code",
    "id": "gOKV1DePFZUZ"
   },
   "outputs": [],
   "source": [
    "#data to be saved\n",
    "tawiki_data_df = pd.DataFrame(tawiki_data,columns=['Content'])\n",
    "boxed_values_df = pd.DataFrame(boxed_values)\n",
    "#curl_boxed_values = pd.DataFrame(curlBoxed_values)\n",
    "boxed_and_curls_df = pd.DataFrame(boxed_and_curls)\n",
    "categories_df = pd.DataFrame(categories)"
   ]
  },
  {
   "cell_type": "code",
   "execution_count": 0,
   "metadata": {
    "colab": {
     "base_uri": "https://localhost:8080/",
     "height": 204
    },
    "colab_type": "code",
    "id": "NGwZ8ZCqEPf_",
    "outputId": "535ecf4b-6c7c-46b4-dc0d-2715c8c16c4b"
   },
   "outputs": [
    {
     "data": {
      "text/html": [
       "<div>\n",
       "<style scoped>\n",
       "    .dataframe tbody tr th:only-of-type {\n",
       "        vertical-align: middle;\n",
       "    }\n",
       "\n",
       "    .dataframe tbody tr th {\n",
       "        vertical-align: top;\n",
       "    }\n",
       "\n",
       "    .dataframe thead th {\n",
       "        text-align: right;\n",
       "    }\n",
       "</style>\n",
       "<table border=\"1\" class=\"dataframe\">\n",
       "  <thead>\n",
       "    <tr style=\"text-align: right;\">\n",
       "      <th></th>\n",
       "      <th>categories</th>\n",
       "      <th>title</th>\n",
       "    </tr>\n",
       "  </thead>\n",
       "  <tbody>\n",
       "    <tr>\n",
       "      <th>0</th>\n",
       "      <td>[]</td>\n",
       "      <td>முதற் பக்கம்</td>\n",
       "    </tr>\n",
       "    <tr>\n",
       "      <th>1</th>\n",
       "      <td>[விக்கிப்பீடியா ஆலமரத்தடி]</td>\n",
       "      <td>விக்கிப்பீடியா:கலந்துரையாடல்</td>\n",
       "    </tr>\n",
       "    <tr>\n",
       "      <th>2</th>\n",
       "      <td>[விக்கிப்பீடியா உதவி, திருப்பூர் மாவட்ட ஆசிரிய...</td>\n",
       "      <td>விக்கிப்பீடியா:புதுப் பயனர் பக்கம்</td>\n",
       "    </tr>\n",
       "    <tr>\n",
       "      <th>3</th>\n",
       "      <td>[விக்கிப்பீடியர்கள்]</td>\n",
       "      <td>விக்கிப்பீடியா:விக்கிப்பீடியர்கள்</td>\n",
       "    </tr>\n",
       "    <tr>\n",
       "      <th>4</th>\n",
       "      <td>[கட்டிடக்கலை| ]</td>\n",
       "      <td>கட்டிடக்கலை</td>\n",
       "    </tr>\n",
       "  </tbody>\n",
       "</table>\n",
       "</div>"
      ],
      "text/plain": [
       "                                          categories                               title\n",
       "0                                                 []                        முதற் பக்கம்\n",
       "1                         [விக்கிப்பீடியா ஆலமரத்தடி]        விக்கிப்பீடியா:கலந்துரையாடல்\n",
       "2  [விக்கிப்பீடியா உதவி, திருப்பூர் மாவட்ட ஆசிரிய...  விக்கிப்பீடியா:புதுப் பயனர் பக்கம்\n",
       "3                               [விக்கிப்பீடியர்கள்]   விக்கிப்பீடியா:விக்கிப்பீடியர்கள்\n",
       "4                                    [கட்டிடக்கலை| ]                         கட்டிடக்கலை"
      ]
     },
     "execution_count": 24,
     "metadata": {
      "tags": []
     },
     "output_type": "execute_result"
    }
   ],
   "source": [
    "categories_df.head()"
   ]
  },
  {
   "cell_type": "markdown",
   "metadata": {
    "colab_type": "text",
    "id": "JxyYw-tBLK1_"
   },
   "source": [
    "Save all the results to disk.\n",
    "\n"
   ]
  },
  {
   "cell_type": "code",
   "execution_count": 0,
   "metadata": {
    "colab": {},
    "colab_type": "code",
    "id": "gwVeJRHH2Jjz"
   },
   "outputs": [],
   "source": [
    "tawiki_data_df.to_csv(\"tawiki_data_df.csv\",index=False)\n",
    "boxed_values_df.to_csv(\"boxed_value_df.csv\",index =False)\n",
    "boxed_and_curls_df.to_csv(\"boxednCurls_df.csv\",index=False)\n",
    "categories_df.to_csv(\"categories_df.csv\",index=False)"
   ]
  },
  {
   "cell_type": "code",
   "execution_count": 0,
   "metadata": {
    "colab": {},
    "colab_type": "code",
    "id": "dVMRGI0OJJqb"
   },
   "outputs": [],
   "source": []
  }
 ],
 "metadata": {
  "colab": {
   "collapsed_sections": [],
   "name": "Tamizh-Wikidump-Extraction.ipynb",
   "provenance": [],
   "version": "0.3.2"
  },
  "kernelspec": {
   "display_name": "Python 3",
   "language": "python",
   "name": "python3"
  },
  "language_info": {
   "codemirror_mode": {
    "name": "ipython",
    "version": 3
   },
   "file_extension": ".py",
   "mimetype": "text/x-python",
   "name": "python",
   "nbconvert_exporter": "python",
   "pygments_lexer": "ipython3",
   "version": "3.6.5"
  }
 },
 "nbformat": 4,
 "nbformat_minor": 1
}
