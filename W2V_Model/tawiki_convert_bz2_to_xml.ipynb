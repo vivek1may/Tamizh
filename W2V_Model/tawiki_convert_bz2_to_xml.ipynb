{
 "cells": [
  {
   "cell_type": "markdown",
   "metadata": {
    "colab_type": "text",
    "id": "iM3Krbn5SX0-"
   },
   "source": [
    "Data extraction from Wikimedia tamil dump data\n",
    "\n",
    "Wikimedia "
   ]
  },
  {
   "cell_type": "code",
   "execution_count": 8,
   "metadata": {
    "colab": {},
    "colab_type": "code",
    "id": "2i2sTUZhSR8C"
   },
   "outputs": [],
   "source": [
    "#Mount drive from gdrive"
   ]
  },
  {
   "cell_type": "code",
   "execution_count": 0,
   "metadata": {
    "colab": {
     "base_uri": "https://localhost:8080/",
     "height": 50
    },
    "colab_type": "code",
    "id": "SlECNemuSqAo",
    "outputId": "0df1fe08-74fe-44d6-d707-c88584209165"
   },
   "outputs": [
    {
     "name": "stdout",
     "output_type": "stream",
     "text": [
      "Drive already mounted at /gdrive; to attempt to forcibly remount, call drive.mount(\"/gdrive\", force_remount=True).\n",
      "/gdrive\n"
     ]
    }
   ],
   "source": [
    "from google.colab import drive\n",
    "drive.mount('/gdrive')\n",
    "%cd /gdrive"
   ]
  },
  {
   "cell_type": "code",
   "execution_count": 0,
   "metadata": {
    "colab": {
     "base_uri": "https://localhost:8080/",
     "height": 34
    },
    "colab_type": "code",
    "id": "YCyJeIaXSsQN",
    "outputId": "fb3e3dc2-5787-4bf1-e5fb-cc1e27d0a5f0"
   },
   "outputs": [
    {
     "name": "stdout",
     "output_type": "stream",
     "text": [
      "/gdrive/My Drive/Tamizh/data/wiki_data\n"
     ]
    }
   ],
   "source": [
    "%cd /gdrive/My\\ Drive/Tamizh/data/wiki_data"
   ]
  },
  {
   "cell_type": "code",
   "execution_count": 0,
   "metadata": {
    "colab": {
     "base_uri": "https://localhost:8080/",
     "height": 34
    },
    "colab_type": "code",
    "id": "PGbivBjJTp2p",
    "outputId": "7573c7a8-6425-40a3-d529-636215dd3309"
   },
   "outputs": [
    {
     "name": "stdout",
     "output_type": "stream",
     "text": [
      "tawiki-latest-pages-articles.xml.bz2\n"
     ]
    }
   ],
   "source": [
    "!ls"
   ]
  },
  {
   "cell_type": "markdown",
   "metadata": {
    "colab": {},
    "colab_type": "code",
    "id": "H8I4S-YXS_m0"
   },
   "source": [
    "### Extract bz2 file to xml files"
   ]
  },
  {
   "cell_type": "code",
   "execution_count": 0,
   "metadata": {
    "colab": {},
    "colab_type": "code",
    "id": "xsQAZ0c0U-OO"
   },
   "outputs": [],
   "source": [
    "import bz2"
   ]
  },
  {
   "cell_type": "code",
   "execution_count": 0,
   "metadata": {
    "colab": {},
    "colab_type": "code",
    "id": "PF3pXbfXTAsX"
   },
   "outputs": [],
   "source": [
    "with open(\"tawiki-latest-pages-articles.xml.bz2\",\"rb\") as f:\n",
    "  file_decompress = bz2.decompress(f.read())"
   ]
  },
  {
   "cell_type": "code",
   "execution_count": 0,
   "metadata": {
    "colab": {},
    "colab_type": "code",
    "id": "-6J1uiz2Tgtn"
   },
   "outputs": [],
   "source": [
    "with open(\"tawiki-decompressed.xml\",\"wb\") as wf:\n",
    "  wf.write(file_decompress)\n",
    "  "
   ]
  },
  {
   "cell_type": "markdown",
   "metadata": {},
   "source": [
    "### Import libraries"
   ]
  },
  {
   "cell_type": "code",
   "execution_count": 1,
   "metadata": {
    "colab": {},
    "colab_type": "code",
    "id": "C44fpmVrUL7f"
   },
   "outputs": [],
   "source": [
    "import pandas as pd\n",
    "import os\n",
    "import re\n",
    "import xml.etree.ElementTree as ET"
   ]
  },
  {
   "cell_type": "code",
   "execution_count": 2,
   "metadata": {
    "colab": {},
    "colab_type": "code",
    "id": "144Jhwnyc83Z"
   },
   "outputs": [],
   "source": [
    "file_path =\"../dataset/tawiki/article/tawiki-latest-pages-articles.xml\""
   ]
  },
  {
   "cell_type": "markdown",
   "metadata": {},
   "source": [
    "### Build a XML tree "
   ]
  },
  {
   "cell_type": "code",
   "execution_count": 3,
   "metadata": {
    "colab": {},
    "colab_type": "code",
    "id": "Ui4t2VjIdFO9"
   },
   "outputs": [],
   "source": [
    "#load file to XML parser\n",
    "\n",
    "tree = ET.parse(file_path)\n",
    "root = tree.getroot()  "
   ]
  },
  {
   "cell_type": "code",
   "execution_count": 4,
   "metadata": {
    "colab": {},
    "colab_type": "code",
    "id": "W96P94IndGpR"
   },
   "outputs": [],
   "source": [
    "ns = {'ns': \"http://www.mediawiki.org/xml/export-0.10/\"}"
   ]
  },
  {
   "cell_type": "markdown",
   "metadata": {},
   "source": [
    "### Extract below fields from the xml data\n",
    "1. Title\n",
    "2. Article Content"
   ]
  },
  {
   "cell_type": "code",
   "execution_count": 5,
   "metadata": {
    "colab": {},
    "colab_type": "code",
    "id": "UCIo1_AidJwr"
   },
   "outputs": [],
   "source": [
    "content = []\n",
    "for page in root.iter('{http://www.mediawiki.org/xml/export-0.10/}page'):\n",
    "    title = page.find(\"ns:title\",ns).text\n",
    "    text  = page.find(\"ns:revision/ns:text\",ns).text\n",
    "    content.append({'title':title,'text':text})`b\n",
    "    "
   ]
  },
  {
   "cell_type": "markdown",
   "metadata": {},
   "source": [
    "### Save as tabular data"
   ]
  },
  {
   "cell_type": "code",
   "execution_count": 6,
   "metadata": {
    "colab": {},
    "colab_type": "code",
    "id": "1VRv6UINdMpM"
   },
   "outputs": [],
   "source": [
    "tawiki_content_df = pd.DataFrame(content)"
   ]
  },
  {
   "cell_type": "code",
   "execution_count": 7,
   "metadata": {
    "colab": {},
    "colab_type": "code",
    "id": "XxP3oaJ2dPC3"
   },
   "outputs": [],
   "source": [
    "tawiki_content_df.to_csv(\"../dataset/tawiki/article/tawiki_pages_articles.csv\")"
   ]
  },
  {
   "cell_type": "code",
   "execution_count": 0,
   "metadata": {
    "colab": {},
    "colab_type": "code",
    "id": "hBLTNjIldPpI"
   },
   "outputs": [],
   "source": []
  }
 ],
 "metadata": {
  "accelerator": "GPU",
  "colab": {
   "name": "tawiki_extraction.ipynb",
   "provenance": [],
   "version": "0.3.2"
  },
  "kernelspec": {
   "display_name": "Python 3",
   "language": "python",
   "name": "python3"
  },
  "language_info": {
   "codemirror_mode": {
    "name": "ipython",
    "version": 3
   },
   "file_extension": ".py",
   "mimetype": "text/x-python",
   "name": "python",
   "nbconvert_exporter": "python",
   "pygments_lexer": "ipython3",
   "version": "3.6.5"
  }
 },
 "nbformat": 4,
 "nbformat_minor": 1
}
